{
  "nbformat": 4,
  "nbformat_minor": 0,
  "metadata": {
    "colab": {
      "name": "CA2_20201101.ipynb",
      "provenance": [],
      "collapsed_sections": [
        "31bbAJh4YUQ7",
        "p50D7Lrh2Z3o",
        "Jm7sE_fsACqT",
        "ycG2v5AX1r-k",
        "tMY81vRy1vVC",
        "yeoE7nisYsGH",
        "-4lFR6LSYuxi",
        "U671XrBSDXbK"
      ],
      "machine_shape": "hm",
      "toc_visible": true,
      "mount_file_id": "1rTiVa1LmZ6ZrOaif3Y2Jcmvn3h7YSOdw",
      "authorship_tag": "ABX9TyOnyPRNtNiaALB9izOdN/Gs",
      "include_colab_link": true
    },
    "kernelspec": {
      "name": "python3",
      "display_name": "Python 3"
    },
    "language_info": {
      "name": "python"
    },
    "accelerator": "GPU"
  },
  "cells": [
    {
      "cell_type": "markdown",
      "metadata": {
        "id": "view-in-github",
        "colab_type": "text"
      },
      "source": [
        "<a href=\"https://colab.research.google.com/github/8hehe8/20201101/blob/main/CA2_20201101.ipynb\" target=\"_parent\"><img src=\"https://colab.research.google.com/assets/colab-badge.svg\" alt=\"Open In Colab\"/></a>"
      ]
    },
    {
      "cell_type": "code",
      "execution_count": 1,
      "metadata": {
        "id": "ItMJiTYzCvnT"
      },
      "outputs": [],
      "source": [
        "import os\n",
        "import torch\n",
        "import gensim\n",
        "import pandas as pd\n",
        "import matplotlib.pyplot as plt\n",
        "import numpy as np\n",
        "import time\n",
        "import torch.nn.functional as F\n",
        "from natsort import natsorted\n",
        "from torch import nn, optim\n",
        "from torch.autograd import Variable\n",
        "from torchtext import datasets, vocab\n",
        "from torchtext.legacy import data\n",
        "from collections import Counter\n",
        "from torch.nn.utils.rnn import pack_padded_sequence"
      ]
    },
    {
      "cell_type": "code",
      "source": [
        "cd drive/MyDrive/AI_class/amazon_review/"
      ],
      "metadata": {
        "colab": {
          "base_uri": "https://localhost:8080/"
        },
        "id": "_d1-bsSlhR7i",
        "outputId": "b91168d4-dd97-4385-99ce-d0b78b4fbbc7"
      },
      "execution_count": 2,
      "outputs": [
        {
          "output_type": "stream",
          "name": "stdout",
          "text": [
            "/content/drive/MyDrive/AI_class/amazon_review\n"
          ]
        }
      ]
    },
    {
      "cell_type": "markdown",
      "source": [
        "## Loading txt and cover to csv"
      ],
      "metadata": {
        "id": "Uy-ViueVhWzl"
      }
    },
    {
      "cell_type": "code",
      "source": [
        "# read txt file\n",
        "def load_train_txt():\n",
        "    data, labels = [], []\n",
        "    \n",
        "    for label in ('positive', 'negative'):\n",
        "        folder_name = os.path.join('train', label)\n",
        "\n",
        "        for file in os.listdir(folder_name):\n",
        "            with open(os.path.join(folder_name, file), 'rb') as f:\n",
        "                review = f.read().decode('utf-8').replace('\\n','')\n",
        "                data.append(review)\n",
        "                labels.append(1 if label == 'positive' else 0)\n",
        "\n",
        "    return data, labels\n",
        "\n",
        "def load_test_txt():\n",
        "    filename, data = [], []\n",
        "\n",
        "    folder_name = os.path.join('test')\n",
        "\n",
        "    for file in os.listdir(folder_name):\n",
        "        with open(os.path.join(folder_name, file), 'rb') as f:\n",
        "            review = f.read().decode('utf-8').replace('\\n','')\n",
        "            data.append(review)\n",
        "            filename.append(file)\n",
        "\n",
        "    return filename, data\n",
        "\n",
        "train_data = load_train_txt()\n",
        "train_data_df = pd.DataFrame(train_data, index=['text','label']).transpose()\n",
        "train_data_df.to_csv('train_data.csv', sep=',', index=False)"
      ],
      "metadata": {
        "id": "j7hXpxwODVUQ"
      },
      "execution_count": 3,
      "outputs": []
    },
    {
      "cell_type": "markdown",
      "source": [
        "## Generally used codes"
      ],
      "metadata": {
        "id": "El-uH_i6heqc"
      }
    },
    {
      "cell_type": "code",
      "source": [
        "def train(model, optimizer, train_loader, loss_function):\n",
        "    model.train()\n",
        "    corrects, total_loss = 0, 0\n",
        "\n",
        "    for batch in train_loader:\n",
        "        x = batch.text.to(device)\n",
        "        y = batch.label.to(device)\n",
        "\n",
        "        optimizer.zero_grad()\n",
        "        \n",
        "        pred = model(x)\n",
        "        # print(pred.shape, y.shape)\n",
        "        loss = loss_function(pred, y)\n",
        "        loss.backward()\n",
        "        optimizer.step()\n",
        "        \n",
        "        total_loss += loss.item()\n",
        "        corrects += (pred.max(1)[1].view(y.size()).data == y.data).sum()\n",
        "\n",
        "    size = len(train_loader.dataset)\n",
        "    avg_loss = total_loss / size\n",
        "    avg_accuracy = corrects / size\n",
        "\n",
        "    return avg_loss, avg_accuracy\n",
        "\n",
        "def evaluate(model, val_loader):\n",
        "    model.eval()\n",
        "\n",
        "    corrects, total_loss = 0, 0\n",
        "    for batch in val_loader:\n",
        "        x, y = batch.text.to(device), batch.label.to(device)\n",
        "        \n",
        "        pred = model(x)\n",
        "        loss = loss_function(pred, y)\n",
        "        \n",
        "        total_loss += loss.item()\n",
        "        corrects += (pred.max(1)[1].view(y.size()).data == y.data).sum()\n",
        "\n",
        "    size = len(val_loader.dataset)\n",
        "    avg_loss = total_loss / size\n",
        "    avg_accuracy = corrects / size\n",
        "\n",
        "    return avg_loss, avg_accuracy\n",
        "\n",
        "def init_weights(m):\n",
        "    if type(m) == nn.Linear:\n",
        "        nn.init.xavier_uniform_(m.weight)\n",
        "    if type(m) == nn.LSTM:\n",
        "        for param in m._flat_weights_names:\n",
        "            if \"weight\" in param:\n",
        "                nn.init.xavier_uniform_(m._parameters[param])\n",
        "\n",
        "def try_gpu(i=0):\n",
        "    if torch.cuda.device_count() >= i + 1:\n",
        "        return torch.device(f'cuda:{i}')\n",
        "    return torch.device('cpu')\n",
        "\n",
        "device = try_gpu()"
      ],
      "metadata": {
        "id": "CZXmjLdqXrgd"
      },
      "execution_count": 188,
      "outputs": []
    },
    {
      "cell_type": "code",
      "source": [
        "# define field\n",
        "TEXT = data.Field(sequential=True,\n",
        "                  use_vocab=True,\n",
        "                  tokenize=str.split,\n",
        "                  lower=True,\n",
        "                  batch_first=True,\n",
        "                  fix_length=20)\n",
        "\n",
        "LABEL = data.Field(sequential=False,\n",
        "                   use_vocab=False,\n",
        "                   batch_first=False,\n",
        "                   is_target=True)\n",
        "\n",
        "# create dataset\n",
        "train_dataset = data.TabularDataset(\n",
        "    path='train_data.csv', format='csv',\n",
        "    fields=[('text', TEXT), ('label', LABEL)], skip_header=True)\n",
        "\n",
        "TEXT.build_vocab(train_dataset, max_size=10000, min_freq=10)"
      ],
      "metadata": {
        "id": "GdL2pjzeSY7x"
      },
      "execution_count": 5,
      "outputs": []
    },
    {
      "cell_type": "code",
      "source": [
        "# create dataloder\n",
        "batch_size = 5\n",
        "train_loader = data.Iterator(train_dataset, batch_size=batch_size)\n",
        "print('# of training data mini batch : {}'.format(len(train_loader)))"
      ],
      "metadata": {
        "colab": {
          "base_uri": "https://localhost:8080/"
        },
        "id": "MRZ8NUvPSJw0",
        "outputId": "1a8ebc17-b10b-4e63-b84a-f0bf934eaa4b"
      },
      "execution_count": 6,
      "outputs": [
        {
          "output_type": "stream",
          "name": "stdout",
          "text": [
            "# of training data mini batch : 412\n"
          ]
        }
      ]
    },
    {
      "cell_type": "markdown",
      "source": [
        "## With pretratined embedding."
      ],
      "metadata": {
        "id": "31bbAJh4YUQ7"
      }
    },
    {
      "cell_type": "markdown",
      "source": [
        "### model define"
      ],
      "metadata": {
        "id": "p50D7Lrh2Z3o"
      }
    },
    {
      "cell_type": "code",
      "source": [
        "# load embeddings from txt\n",
        "word2vec = gensim.models.KeyedVectors.load_word2vec_format('all.review.vec.txt')\n",
        "weights = torch.FloatTensor(word2vec.vectors)\n",
        "embedding = nn.Embedding.from_pretrained(weights, freeze=False)\n",
        "embedding.to(device)"
      ],
      "metadata": {
        "colab": {
          "base_uri": "https://localhost:8080/"
        },
        "id": "0GrLK9b-R75y",
        "outputId": "ab1db6e1-2379-4ecc-fc44-6048b7e811d9"
      },
      "execution_count": 234,
      "outputs": [
        {
          "output_type": "execute_result",
          "data": {
            "text/plain": [
              "Embedding(56050, 100)"
            ]
          },
          "metadata": {},
          "execution_count": 234
        }
      ]
    },
    {
      "cell_type": "code",
      "source": [
        "class RNN_Net(nn.Module):\n",
        "    def __init__(self, embed_size, num_hiddens, num_layers, **kwargs):\n",
        "        super(RNN_Net, self).__init__(**kwargs)\n",
        "        self.encoder = nn.LSTM(embed_size, num_hiddens, num_layers, bidirectional=True)\n",
        "        self.tanh = nn.Tanh()\n",
        "        self.decoder = nn.Linear(4*num_hiddens, 2)\n",
        "\n",
        "    def forward(self, embeddings):\n",
        "        embeddings = embedding(embeddings.T)\n",
        "        self.encoder.flatten_parameters()\n",
        "        outputs, _ = self.encoder(embeddings)\n",
        "        outputs = self.tanh(outputs)\n",
        "        encoding = torch.cat((outputs[0], outputs[-1]), dim=1)\n",
        "        outs = self.decoder(encoding)\n",
        "\n",
        "        return outs\n",
        "\n",
        "class CNN_Net(nn.Module):\n",
        "    def __init__(self, num_filters, num_channels, **kwargs):\n",
        "        super(CNN_Net, self).__init__(**kwargs)\n",
        "\n",
        "        self.conv = nn.Conv1d(in_channels=100, \n",
        "                              out_channels=num_filters,\n",
        "                              kernel_size=3)\n",
        "\n",
        "        self.relu = nn.ReLU()\n",
        "        self.fc = nn.Linear(num_filters, 2) # 300, 2\n",
        "    \n",
        "    def forward(self, inputs):\n",
        "        embedded = embedding(inputs)\n",
        "        embedded = embedded.permute(0, 2, 1)\n",
        "        conved = self.conv(embedded)\n",
        "        conved = self.relu(conved)\n",
        "        pooled = F.max_pool1d(conved, conved.shape[2]).squeeze(2)\n",
        "        cat = torch.cat([pooled], dim=1)\n",
        "        outputs = self.fc(cat) \n",
        "\n",
        "        return outputs"
      ],
      "metadata": {
        "id": "JlZS__1eWWz8"
      },
      "execution_count": 235,
      "outputs": []
    },
    {
      "cell_type": "markdown",
      "source": [
        "### training"
      ],
      "metadata": {
        "id": "ZttAFzG22c75"
      }
    },
    {
      "cell_type": "code",
      "source": [
        "# for CNN model\n",
        "num_filters, num_channels = 100, 3\n",
        "\n",
        "model_CNN = CNN_Net(num_filters=num_filters, num_channels=num_channels)\n",
        "optimizer = optim.Adam(params=model_CNN.parameters())\n",
        "\n",
        "model_CNN.apply(init_weights)\n",
        "model_CNN.to(device)\n",
        "\n",
        "loss_function = nn.CrossEntropyLoss()\n",
        "loss_function.to(device)\n",
        "\n",
        "num_epochs = 8\n",
        "\n",
        "for epoch in range(num_epochs):\n",
        "    train_loss, train_acc = train(model_CNN, optimizer, train_loader, loss_function)\n",
        "    print(f'\\tTrain Loss: {train_loss} | Train Acc: {train_acc}%')"
      ],
      "metadata": {
        "id": "-jLqXMjsg57E",
        "colab": {
          "base_uri": "https://localhost:8080/"
        },
        "outputId": "b53748a1-1e82-4fac-f1c0-2f93e87efe54"
      },
      "execution_count": 236,
      "outputs": [
        {
          "output_type": "stream",
          "name": "stdout",
          "text": [
            "\tTrain Loss: 0.13708613986529192 | Train Acc: 0.5514563322067261%\n",
            "\tTrain Loss: 0.11889809297705159 | Train Acc: 0.7072815895080566%\n",
            "\tTrain Loss: 0.09679602362143183 | Train Acc: 0.7898058295249939%\n",
            "\tTrain Loss: 0.07379620495134766 | Train Acc: 0.8553398251533508%\n",
            "\tTrain Loss: 0.04844394911858208 | Train Acc: 0.9432039260864258%\n",
            "\tTrain Loss: 0.03180334815321472 | Train Acc: 0.9771844744682312%\n",
            "\tTrain Loss: 0.0191230863988291 | Train Acc: 0.9917476177215576%\n",
            "\tTrain Loss: 0.01183411914819074 | Train Acc: 0.9980582594871521%\n"
          ]
        }
      ]
    },
    {
      "cell_type": "code",
      "source": [
        "## For RNN model\n",
        "embed_size, num_hiddens, num_layers = weights.shape[1], 100, 2\n",
        "# 100, 100, 2\n",
        "\n",
        "model_RNN = RNN_Net(embed_size, num_hiddens, num_layers)\n",
        "optimizer = optim.Adam(params=model_RNN.parameters())\n",
        "\n",
        "model_RNN.apply(init_weights)\n",
        "model_RNN.to(device)\n",
        "\n",
        "loss_function = nn.CrossEntropyLoss()\n",
        "loss_function.to(device)\n",
        "\n",
        "num_epochs = 10\n",
        "\n",
        "for epoch in range(num_epochs):\n",
        "    train_loss, train_acc = train(model_RNN, optimizer, train_loader, loss_function)\n",
        "    print(f'\\tTrain Loss: {train_loss} | Train Acc: {train_acc}%')"
      ],
      "metadata": {
        "id": "OWpMY5kCPel1",
        "colab": {
          "base_uri": "https://localhost:8080/"
        },
        "outputId": "34ac8daf-f02b-4e50-8eda-6aa879695e46"
      },
      "execution_count": 237,
      "outputs": [
        {
          "output_type": "stream",
          "name": "stdout",
          "text": [
            "\tTrain Loss: 0.134552758671705 | Train Acc: 0.5796116590499878%\n",
            "\tTrain Loss: 0.12056100338842105 | Train Acc: 0.6582524180412292%\n",
            "\tTrain Loss: 0.11145429203232515 | Train Acc: 0.6985437273979187%\n",
            "\tTrain Loss: 0.10321670796686006 | Train Acc: 0.7359223365783691%\n",
            "\tTrain Loss: 0.09066796680387941 | Train Acc: 0.7786408066749573%\n",
            "\tTrain Loss: 0.07481819697411604 | Train Acc: 0.825728178024292%\n",
            "\tTrain Loss: 0.05829385371688862 | Train Acc: 0.8713592290878296%\n",
            "\tTrain Loss: 0.040374979790688936 | Train Acc: 0.9189320802688599%\n",
            "\tTrain Loss: 0.026515397533759682 | Train Acc: 0.9446601867675781%\n",
            "\tTrain Loss: 0.01788088760717497 | Train Acc: 0.9640777111053467%\n"
          ]
        }
      ]
    },
    {
      "cell_type": "markdown",
      "source": [
        "## Without pretrained embedding"
      ],
      "metadata": {
        "id": "FoJ8wkSrYa6H"
      }
    },
    {
      "cell_type": "markdown",
      "source": [
        "### data processing"
      ],
      "metadata": {
        "id": "Jm7sE_fsACqT"
      }
    },
    {
      "cell_type": "code",
      "source": [
        "word_set = []\n",
        "for w in train_data_df['text']:\n",
        "    temp = set(w.split())\n",
        "    word_set.append(list(temp))\n",
        "\n",
        "word_set = sum(word_set, [])\n",
        "\n",
        "vocab = {word: i+2 for i, word in enumerate(word_set)}\n",
        "vocab['<unk>'] = 0\n",
        "vocab['<pad>'] = 1\n",
        "\n",
        "vocab_size = len(vocab)"
      ],
      "metadata": {
        "id": "390dMnBjq6t4"
      },
      "execution_count": 238,
      "outputs": []
    },
    {
      "cell_type": "markdown",
      "source": [
        "### model define"
      ],
      "metadata": {
        "id": "ycG2v5AX1r-k"
      }
    },
    {
      "cell_type": "code",
      "source": [
        "embedding_wo = nn.Embedding(num_embeddings=vocab_size, embedding_dim=100)\n",
        "embedding_wo.to(device)"
      ],
      "metadata": {
        "colab": {
          "base_uri": "https://localhost:8080/"
        },
        "id": "JQHnDnrpqULx",
        "outputId": "6c2d111e-f670-4a4a-dff2-19f90e94f38f"
      },
      "execution_count": 239,
      "outputs": [
        {
          "output_type": "execute_result",
          "data": {
            "text/plain": [
              "Embedding(24475, 100)"
            ]
          },
          "metadata": {},
          "execution_count": 239
        }
      ]
    },
    {
      "cell_type": "code",
      "source": [
        "class RNN_Net_wo(nn.Module):\n",
        "    def __init__(self, embed_size, num_hiddens, num_layers, **kwargs):\n",
        "        super(RNN_Net_wo, self).__init__(**kwargs)\n",
        "        \n",
        "        self.encoder = nn.LSTM(embed_size, num_hiddens, num_layers, bidirectional=True)\n",
        "        self.tanh = nn.Tanh()\n",
        "        self.decoder = nn.Linear(4*num_hiddens, 2)\n",
        "\n",
        "    def forward(self, embedded):\n",
        "        embedded = embedding_wo(embedded.T)\n",
        "        self.encoder.flatten_parameters()\n",
        "        outputs, _ = self.encoder(embedded)\n",
        "        outputs = self.tanh(outputs)\n",
        "        encoding = torch.cat((outputs[0], outputs[-1]), dim=1)\n",
        "        outs = self.decoder(encoding)\n",
        "\n",
        "        return outs\n",
        "\n",
        "\n",
        "class CNN_Net_wo(nn.Module):\n",
        "    def __init__(self, num_filters, num_channels, **kwargs):\n",
        "        super(CNN_Net_wo, self).__init__(**kwargs)\n",
        "\n",
        "        self.conv = nn.Conv1d(in_channels=100, \n",
        "                              out_channels=num_filters,\n",
        "                              kernel_size=3)\n",
        "\n",
        "        self.relu = nn.ReLU()\n",
        "        self.fc = nn.Linear(num_filters, 2)\n",
        "        self.dropout = nn.Dropout(0.5)\n",
        "    \n",
        "    def forward(self, inputs):\n",
        "        # print(inputs.shape)\n",
        "        #batch size, sent len 5,20\n",
        "        embedded = embedding_wo(inputs)\n",
        "        embedded = embedded.permute(0, 2, 1)\n",
        "        # print(embedded.shape)\n",
        "        # batch size, embed_size, sent len\n",
        "\n",
        "        conved = self.conv(embedded)\n",
        "        conved = self.relu(conved)\n",
        "        # print(conved.shape)\n",
        "        # batch size, num_filters, 18\n",
        "\n",
        "        pooled = F.max_pool1d(conved, conved.shape[2]).squeeze(2)\n",
        "        # print(pooled.shape)\n",
        "        #batch size, num_filters\n",
        "\n",
        "        cat = torch.cat([pooled], dim=1)\n",
        "        # cat = self.dropout(torch.cat([pooled], dim=1))\n",
        "        outputs = self.fc(cat) \n",
        "\n",
        "        return outputs"
      ],
      "metadata": {
        "id": "iyethIsUI73w"
      },
      "execution_count": 240,
      "outputs": []
    },
    {
      "cell_type": "markdown",
      "source": [
        "### training"
      ],
      "metadata": {
        "id": "tMY81vRy1vVC"
      }
    },
    {
      "cell_type": "code",
      "source": [
        "# for CNN model\n",
        "num_filters, num_channels = 100, 3\n",
        "\n",
        "model_CNN_wo = CNN_Net_wo(num_filters=num_filters, num_channels=num_channels)\n",
        "optimizer = optim.Adam(params=model_CNN_wo.parameters())\n",
        "\n",
        "model_CNN_wo.apply(init_weights)\n",
        "model_CNN_wo.to(device)\n",
        "\n",
        "loss_function = nn.CrossEntropyLoss()\n",
        "loss_function.to(device)\n",
        "\n",
        "num_epochs = 4\n",
        "\n",
        "for epoch in range(num_epochs):\n",
        "    train_loss, train_acc = train(model_CNN_wo, optimizer, train_loader, loss_function)\n",
        "    print(f'\\tTrain Loss: {train_loss} | Train Acc: {train_acc}%')"
      ],
      "metadata": {
        "id": "dstyuEn5JVcj",
        "colab": {
          "base_uri": "https://localhost:8080/"
        },
        "outputId": "6dbc5b69-92c0-466f-b6bb-acd4dba363a2"
      },
      "execution_count": 241,
      "outputs": [
        {
          "output_type": "stream",
          "name": "stdout",
          "text": [
            "\tTrain Loss: 0.13284513040364368 | Train Acc: 0.635922372341156%\n",
            "\tTrain Loss: 0.0749703146191766 | Train Acc: 0.8456310629844666%\n",
            "\tTrain Loss: 0.04053307911290706 | Train Acc: 0.9475728273391724%\n",
            "\tTrain Loss: 0.019058046313635644 | Train Acc: 0.9868932366371155%\n"
          ]
        }
      ]
    },
    {
      "cell_type": "code",
      "source": [
        "## For RNN model\n",
        "embed_size, num_hiddens, num_layers = 100, 100, 2\n",
        "# 100, 100, 2\n",
        "\n",
        "model_RNN_wo = RNN_Net_wo(embed_size, num_hiddens, num_layers)\n",
        "optimizer = optim.Adam(params=model_RNN_wo.parameters())\n",
        "\n",
        "model_RNN_wo.apply(init_weights)\n",
        "model_RNN_wo.to(device)\n",
        "\n",
        "loss_function = nn.CrossEntropyLoss()\n",
        "loss_function.to(device)\n",
        "\n",
        "num_epochs = 5\n",
        "\n",
        "for epoch in range(num_epochs):\n",
        "    train_loss, train_acc = train(model_RNN_wo, optimizer, train_loader, loss_function)\n",
        "    print(f'\\tTrain Loss: {train_loss} | Train Acc: {train_acc}%')"
      ],
      "metadata": {
        "id": "y6zIaWVAJ7uV",
        "colab": {
          "base_uri": "https://localhost:8080/"
        },
        "outputId": "0b621216-f78c-40b6-9621-a56b5ce5ef0a"
      },
      "execution_count": 242,
      "outputs": [
        {
          "output_type": "stream",
          "name": "stdout",
          "text": [
            "\tTrain Loss: 0.12507658245638736 | Train Acc: 0.648058295249939%\n",
            "\tTrain Loss: 0.09888111637199967 | Train Acc: 0.7480582594871521%\n",
            "\tTrain Loss: 0.06506503335815104 | Train Acc: 0.8553398251533508%\n",
            "\tTrain Loss: 0.026069051393144426 | Train Acc: 0.9500000476837158%\n",
            "\tTrain Loss: 0.009408648020689725 | Train Acc: 0.984466016292572%\n"
          ]
        }
      ]
    },
    {
      "cell_type": "markdown",
      "source": [
        "## Report 1"
      ],
      "metadata": {
        "id": "yeoE7nisYsGH"
      }
    },
    {
      "cell_type": "code",
      "source": [
        "wordDict = Counter()\n",
        "text_length = []\n",
        "def count():\n",
        "    for label in ('positive', 'negative'):\n",
        "        folder_name = os.path.join('train', label)\n",
        "\n",
        "        for file in os.listdir(folder_name):\n",
        "            with open(os.path.join(folder_name, file), 'rb') as f:\n",
        "                sentences = f.readlines()\n",
        "                text_length.append(len(str(sentences)))\n",
        "                for sentence in sentences:\n",
        "                    for word in sentence.split():\n",
        "                        wordDict[word] += 1\n",
        "        \n",
        "        folder_name = 'test'\n",
        "        for file in os.listdir(folder_name):\n",
        "            with open(os.path.join(folder_name, file), 'rb') as f:\n",
        "                sentences = f.readlines()\n",
        "                text_length.append(len(str(sentences)))\n",
        "                for sentence in sentences:\n",
        "                    for word in sentence.split():\n",
        "                        wordDict[word] += 1\n",
        "\n",
        "count()\n",
        "word_list = []\n",
        "for word in wordDict:\n",
        "    if word in word_list:\n",
        "        pass\n",
        "    else:\n",
        "        word_list.append(word)\n"
      ],
      "metadata": {
        "id": "HXwg8HA7_v3B"
      },
      "execution_count": 16,
      "outputs": []
    },
    {
      "cell_type": "markdown",
      "source": [
        "## TEST Dataset"
      ],
      "metadata": {
        "id": "-4lFR6LSYuxi"
      }
    },
    {
      "cell_type": "markdown",
      "source": [
        "### data processing"
      ],
      "metadata": {
        "id": "lXPNwy6qAYDT"
      }
    },
    {
      "cell_type": "code",
      "source": [
        "test_data = load_test_txt()\n",
        "test_data_df = pd.DataFrame(test_data, index=['filename','text']).transpose()\n",
        "test_data_index = test_data_df.set_index(keys=['filename'], drop=True)\n",
        "test_data_index = test_data_index.reindex(index=natsorted(test_data_index.index))\n",
        "\n",
        "filename_index = test_data_index.index\n",
        "\n",
        "texts = test_data_index['text']\n",
        "texts.to_csv('test_data.csv', sep=',', index=False)"
      ],
      "metadata": {
        "id": "POZmfenQ9Qfz"
      },
      "execution_count": 17,
      "outputs": []
    },
    {
      "cell_type": "code",
      "source": [
        "# define field\n",
        "TEXT_eval = data.Field(sequential=True,\n",
        "                  use_vocab=True,\n",
        "                  tokenize=str.split,\n",
        "                  lower=True,\n",
        "                  batch_first=True,\n",
        "                  fix_length=20)\n",
        "\n",
        "# create dataset\n",
        "test_dataset = data.TabularDataset(\n",
        "    path='test_data.csv', format='csv',\n",
        "    fields=[('text', TEXT_eval)], skip_header=True)\n",
        "\n",
        "test_loader = data.Iterator(test_dataset, batch_size=batch_size)\n",
        "TEXT_eval.build_vocab(test_dataset, max_size=10000, min_freq=10)"
      ],
      "metadata": {
        "id": "VgPIRam55TTk"
      },
      "execution_count": 18,
      "outputs": []
    },
    {
      "cell_type": "markdown",
      "source": [
        "### training"
      ],
      "metadata": {
        "id": "FkVpS8rMAbTk"
      }
    },
    {
      "cell_type": "code",
      "source": [
        "def test_eval(model, test_loader):\n",
        "    model.eval()\n",
        "    test_pred = []\n",
        "    start = time.time()\n",
        "    for b, batch in enumerate(test_loader):\n",
        "            x = batch.text.to(device)\n",
        "            # print(x)\n",
        "            pred = model(x)\n",
        "            # print(pred)\n",
        "            test_pred.append(list((pred.max(1)[1]).cpu().numpy()))\n",
        "\n",
        "    test_pred = np.concatenate(test_pred).tolist()\n",
        "    test_pred = pd.Series(test_pred)\n",
        "\n",
        "    end = time.time()\n",
        "    return test_pred, end-start\n",
        "\n",
        "test_pred_RNN, time_RNN = test_eval(model_RNN, test_loader)\n",
        "test_pred_CNN, time_CNN = test_eval(model_CNN, test_loader)\n",
        "test_pred_CNN_wo, time_CNN_wo = test_eval(model_CNN_wo, test_loader)\n",
        "test_pred_RNN_wo, time_RNN_wo = test_eval(model_RNN_wo, test_loader)\n",
        "\n",
        "# filename = test_pred.index\n",
        "# submit_csv = pd.DataFrame([filename, test_pred]).transpose()"
      ],
      "metadata": {
        "id": "rSHptiVxxPGP"
      },
      "execution_count": 19,
      "outputs": []
    },
    {
      "cell_type": "code",
      "source": [
        "time_RNN, time_CNN, time_CNN_wo, time_RNN_wo"
      ],
      "metadata": {
        "colab": {
          "base_uri": "https://localhost:8080/"
        },
        "id": "HVOiP--7w33q",
        "outputId": "c76a3006-9088-4953-9596-1562ee58968e"
      },
      "execution_count": 20,
      "outputs": [
        {
          "output_type": "execute_result",
          "data": {
            "text/plain": [
              "(0.6972141265869141,\n",
              " 0.23620080947875977,\n",
              " 0.23070716857910156,\n",
              " 0.6709699630737305)"
            ]
          },
          "metadata": {},
          "execution_count": 20
        }
      ]
    },
    {
      "cell_type": "code",
      "source": [
        "RNN_csv = pd.DataFrame([filename_index, test_pred_RNN], index=['id','sentiment']).transpose()\n",
        "CNN_csv = pd.DataFrame([filename_index, test_pred_CNN], index=['id','sentiment']).transpose()\n",
        "RNN_wo_csv = pd.DataFrame([filename_index, test_pred_RNN_wo], index=['id','sentiment']).transpose()\n",
        "CNN_wo_csv = pd.DataFrame([filename_index, test_pred_CNN_wo], index=['id','sentiment']).transpose()"
      ],
      "metadata": {
        "id": "BjCWLFuxyFAP"
      },
      "execution_count": 21,
      "outputs": []
    },
    {
      "cell_type": "code",
      "source": [
        "RNN_csv.to_csv('predictions/test_RNN.csv', sep=',', index=False)\n",
        "CNN_csv.to_csv('predictions/test_CNN.csv', sep=',', index=False)\n",
        "RNN_wo_csv.to_csv('predictions/test_RNN_wo.csv', sep=',', index=False)\n",
        "CNN_wo_csv.to_csv('predictions/test_CNN_wo.csv', sep=',', index=False)"
      ],
      "metadata": {
        "id": "X5_SfFjj0DRz"
      },
      "execution_count": 22,
      "outputs": []
    },
    {
      "cell_type": "markdown",
      "source": [
        "## validation set"
      ],
      "metadata": {
        "id": "U671XrBSDXbK"
      }
    },
    {
      "cell_type": "code",
      "source": [
        "# making val_set\n",
        "train_set, val_set = train_dataset.split(split_ratio=0.7)"
      ],
      "metadata": {
        "id": "ySwv2I9qDh5a"
      },
      "execution_count": 243,
      "outputs": []
    },
    {
      "cell_type": "code",
      "source": [
        "# create dataloder\n",
        "batch_size = 8\n",
        "train_loader2 = data.Iterator(train_set, batch_size=batch_size, shuffle=True)\n",
        "val_loader2 = data.Iterator(val_set, batch_size=batch_size, shuffle=False)\n",
        "print('# of training data mini batch : {}'.format(len(train_loader2)))"
      ],
      "metadata": {
        "colab": {
          "base_uri": "https://localhost:8080/"
        },
        "outputId": "26cdd7a7-c0f6-423a-c92b-82cdbb4516e5",
        "id": "pxtFfK2QDh5a"
      },
      "execution_count": 244,
      "outputs": [
        {
          "output_type": "stream",
          "name": "stdout",
          "text": [
            "# of training data mini batch : 181\n"
          ]
        }
      ]
    },
    {
      "cell_type": "code",
      "source": [
        "num_filters, num_channels = 100, 3\n",
        "\n",
        "model_CNN = CNN_Net(num_filters=num_filters, num_channels=num_channels)\n",
        "optimizer = optim.SGD(params=model_CNN.parameters(), lr=0.001)\n",
        "\n",
        "model_CNN.apply(init_weights)\n",
        "model_CNN.to(device)\n",
        "\n",
        "loss_function = nn.CrossEntropyLoss(reduction='sum')\n",
        "loss_function.to(device)\n",
        "\n",
        "num_epochs = 100\n",
        "\n",
        "bset_val_loss = None\n",
        "\n",
        "loss1, acc1 = [], []\n",
        "loss2, acc2 = [], []\n",
        "for epoch in range(num_epochs):\n",
        "    train_loss, train_acc = train(model_CNN, optimizer, train_loader2, loss_function)\n",
        "    val_loss, val_acc = evaluate(model_CNN, val_loader2)\n",
        "\n",
        "    loss1.append(train_loss)\n",
        "    acc1.append(train_acc)\n",
        "    loss2.append(val_loss)\n",
        "    acc2.append(val_acc)\n",
        "\n",
        "plt.figure(figsize=(10,5))\n",
        "plt.subplot(1,2,1)\n",
        "plt.title('Model = CNN w/ pretrained')\n",
        "plt.plot(range(num_epochs), loss1, range(num_epochs), loss2)\n",
        "plt.xlabel('Number of epochs')\n",
        "plt.ylabel('Loss')\n",
        "plt.legend(['Training loss', 'Validation loss'])\n",
        "\n",
        "plt.subplot(1,2,2)\n",
        "plt.title('Model = CNN w/ pretrained')\n",
        "plt.plot(range(num_epochs), acc1, range(num_epochs), acc2)\n",
        "plt.xlabel('Number of epochs')\n",
        "plt.ylabel('Accuracy')\n",
        "plt.legend(['Training acc', 'Validation acc'])"
      ],
      "metadata": {
        "colab": {
          "base_uri": "https://localhost:8080/",
          "height": 367
        },
        "id": "J8BaUZ-4DW7i",
        "outputId": "57be910b-51d9-4e86-a266-9697f67817c1"
      },
      "execution_count": 245,
      "outputs": [
        {
          "output_type": "execute_result",
          "data": {
            "text/plain": [
              "<matplotlib.legend.Legend at 0x7f189e407510>"
            ]
          },
          "metadata": {},
          "execution_count": 245
        },
        {
          "output_type": "display_data",
          "data": {
            "image/png": "[encoded data removed]",
            "text/plain": [
              "<Figure size 720x360 with 2 Axes>"
            ]
          },
          "metadata": {
            "needs_background": "light"
          }
        }
      ]
    },
    {
      "cell_type": "code",
      "source": [
        "num_filters, num_channels = 100, 3\n",
        "\n",
        "model_CNN_wo = CNN_Net_wo(num_filters=num_filters, num_channels=num_channels)\n",
        "optimizer = optim.SGD(params=model_CNN_wo.parameters(), lr=0.001)\n",
        "\n",
        "model_CNN_wo.apply(init_weights)\n",
        "model_CNN_wo.to(device)\n",
        "\n",
        "loss_function = nn.CrossEntropyLoss(reduction='sum')\n",
        "loss_function.to(device)\n",
        "\n",
        "num_epochs = 100\n",
        "\n",
        "bset_val_loss = None\n",
        "\n",
        "loss1, acc1 = [], []\n",
        "loss2, acc2 = [], []\n",
        "for epoch in range(num_epochs):\n",
        "    train_loss, train_acc = train(model_CNN_wo, optimizer, train_loader2, loss_function)\n",
        "    val_loss, val_acc = evaluate(model_CNN_wo, val_loader2)\n",
        "\n",
        "    loss1.append(train_loss)\n",
        "    acc1.append(train_acc)\n",
        "    loss2.append(val_loss)\n",
        "    acc2.append(val_acc)\n",
        "\n",
        "plt.figure(figsize=(10,5))\n",
        "plt.subplot(1,2,1)\n",
        "plt.title('Model = CNN w/o pretrained')\n",
        "plt.plot(range(num_epochs), loss1, range(num_epochs), loss2)\n",
        "plt.xlabel('Number of epochs')\n",
        "plt.ylabel('Loss')\n",
        "plt.legend(['Training loss', 'Validation loss'])\n",
        "\n",
        "plt.subplot(1,2,2)\n",
        "plt.title('Model = CNN w/o pretrained')\n",
        "plt.plot(range(num_epochs), acc1, range(num_epochs), acc2)\n",
        "plt.xlabel('Number of epochs')\n",
        "plt.ylabel('Accuracy')\n",
        "plt.legend(['Training acc', 'Validation acc'])"
      ],
      "metadata": {
        "colab": {
          "base_uri": "https://localhost:8080/",
          "height": 367
        },
        "id": "A-etaazVYEcn",
        "outputId": "ca81c032-6c58-4512-dd38-d2e151bcf5b0"
      },
      "execution_count": 246,
      "outputs": [
        {
          "output_type": "execute_result",
          "data": {
            "text/plain": [
              "<matplotlib.legend.Legend at 0x7f189e561bd0>"
            ]
          },
          "metadata": {},
          "execution_count": 246
        },
        {
          "output_type": "display_data",
          "data": {
            "image/png": "[encoded data removed]",
            "text/plain": [
              "<Figure size 720x360 with 2 Axes>"
            ]
          },
          "metadata": {
            "needs_background": "light"
          }
        }
      ]
    },
    {
      "cell_type": "code",
      "source": [
        "## For RNN model\n",
        "embed_size, num_hiddens, num_layers = 100, 100, 2\n",
        "# 100, 100, 2\n",
        "\n",
        "model_RNN_wo = RNN_Net_wo(embed_size, num_hiddens, num_layers)\n",
        "optimizer = optim.SGD(params=model_RNN_wo.parameters(), lr=0.01)\n",
        "\n",
        "model_RNN_wo.apply(init_weights)\n",
        "model_RNN_wo.to(device)\n",
        "\n",
        "loss_function = nn.CrossEntropyLoss(reduction='sum')\n",
        "loss_function.to(device)\n",
        "\n",
        "num_epochs = 100\n",
        "\n",
        "loss1, acc1 = [], []\n",
        "loss2, acc2 = [], []\n",
        "for epoch in range(num_epochs):\n",
        "    train_loss, train_acc = train(model_RNN_wo, optimizer, train_loader2, loss_function)\n",
        "    val_loss, val_acc = evaluate(model_RNN_wo, val_loader2)\n",
        "\n",
        "    loss1.append(train_loss)\n",
        "    acc1.append(train_acc)\n",
        "    loss2.append(val_loss)\n",
        "    acc2.append(val_acc)\n",
        "\n",
        "plt.figure(figsize=(10,5))\n",
        "plt.subplot(1,2,1)\n",
        "plt.title('Model = RNN w/o pretrained')\n",
        "plt.plot(range(num_epochs), loss1, range(num_epochs), loss2)\n",
        "plt.xlabel('Number of epochs')\n",
        "plt.ylabel('Loss')\n",
        "plt.legend(['Training loss', 'Validation loss'])\n",
        "\n",
        "plt.subplot(1,2,2)\n",
        "plt.title('Model = RNN w/o pretrained')\n",
        "plt.plot(range(num_epochs), acc1, range(num_epochs), acc2)\n",
        "plt.xlabel('Number of epochs')\n",
        "plt.ylabel('Accuracy')\n",
        "plt.legend(['Training acc', 'Validation acc'])"
      ],
      "metadata": {
        "colab": {
          "base_uri": "https://localhost:8080/",
          "height": 367
        },
        "id": "lvNEv6cmVvO3",
        "outputId": "3a9b3bf4-b0cd-4270-8a0f-00007fa0b9a6"
      },
      "execution_count": 247,
      "outputs": [
        {
          "output_type": "execute_result",
          "data": {
            "text/plain": [
              "<matplotlib.legend.Legend at 0x7f189e6b5290>"
            ]
          },
          "metadata": {},
          "execution_count": 247
        },
        {
          "output_type": "display_data",
          "data": {
            "image/png": "[encoded data removed]",
            "text/plain": [
              "<Figure size 720x360 with 2 Axes>"
            ]
          },
          "metadata": {
            "needs_background": "light"
          }
        }
      ]
    },
    {
      "cell_type": "code",
      "source": [
        "## For RNN model\n",
        "embed_size, num_hiddens, num_layers = 100, 100, 2\n",
        "# 100, 100, 2\n",
        "\n",
        "model_RNN = RNN_Net(embed_size, num_hiddens, num_layers)\n",
        "optimizer = optim.SGD(params=model_RNN_wo.parameters(), lr=0.1)\n",
        "\n",
        "model_RNN.apply(init_weights)\n",
        "model_RNN.to(device)\n",
        "\n",
        "loss_function = nn.CrossEntropyLoss(reduction='sum')\n",
        "loss_function.to(device)\n",
        "\n",
        "num_epochs = 100\n",
        "\n",
        "loss1, acc1 = [], []\n",
        "loss2, acc2 = [], []\n",
        "for epoch in range(num_epochs):\n",
        "    train_loss, train_acc = train(model_RNN, optimizer, train_loader2, loss_function)\n",
        "    val_loss, val_acc = evaluate(model_RNN, val_loader2)\n",
        "\n",
        "    loss1.append(train_loss)\n",
        "    acc1.append(train_acc)\n",
        "    loss2.append(val_loss)\n",
        "    acc2.append(val_acc)\n",
        "\n",
        "plt.figure(figsize=(10,5))\n",
        "plt.subplot(1,2,1)\n",
        "plt.title('Model = RNN w/ pretrained')\n",
        "plt.plot(range(num_epochs), loss1, range(num_epochs), loss2)\n",
        "plt.xlabel('Number of epochs')\n",
        "plt.ylabel('Loss')\n",
        "plt.legend(['Training loss', 'Validation loss'])\n",
        "\n",
        "plt.subplot(1,2,2)\n",
        "plt.title('Model = RNN w/ pretrained')\n",
        "plt.plot(range(num_epochs), acc1, range(num_epochs), acc2)\n",
        "plt.xlabel('Number of epochs')\n",
        "plt.ylabel('Accuracy')\n",
        "plt.legend(['Training acc', 'Validation acc'])"
      ],
      "metadata": {
        "colab": {
          "base_uri": "https://localhost:8080/",
          "height": 367
        },
        "id": "qyyofUaGT4OB",
        "outputId": "2b187dcb-0b42-4225-f4a5-662eb5912777"
      },
      "execution_count": 248,
      "outputs": [
        {
          "output_type": "execute_result",
          "data": {
            "text/plain": [
              "<matplotlib.legend.Legend at 0x7f189e7ba850>"
            ]
          },
          "metadata": {},
          "execution_count": 248
        },
        {
          "output_type": "display_data",
          "data": {
            "image/png": "[encoded data removed]",
            "text/plain": [
              "<Figure size 720x360 with 2 Axes>"
            ]
          },
          "metadata": {
            "needs_background": "light"
          }
        }
      ]
    },
    {
      "cell_type": "markdown",
      "source": [
        "## New design\n"
      ],
      "metadata": {
        "id": "nGdfK3UteDbl"
      }
    },
    {
      "cell_type": "code",
      "source": [
        "class GRU(nn.Module):\n",
        "    def __init__(self, embeddig, n_layers=1, hidden_dim=100, embed_dim=100, n_classes=2, \n",
        "                 dropout_p=0.2):\n",
        "        super(GRU, self).__init__()\n",
        "        self.embedding = embedding\n",
        "        self.n_layers = n_layers\n",
        "        self.hidden_dim = hidden_dim\n",
        "        self.dropout = nn.Dropout(dropout_p)\n",
        "        self.gru = nn.GRU(embed_dim, self.hidden_dim,\n",
        "                          num_layers=self.n_layers,\n",
        "                          batch_first=True)\n",
        "        self.activation = nn.ReLU()\n",
        "        self.out = nn.Linear(self.hidden_dim, n_classes)\n",
        "\n",
        "    def forward(self, x):\n",
        "        x = embedding(x)\n",
        "        h_0 = self._init_state(batch_size=x.size(0)) # 첫번째 히든 스테이트를 0벡터로 초기화\n",
        "        x, _ = self.gru(x, h_0)  # GRU의 리턴값은 (배치 크기, 시퀀스 길이, 은닉 상태의 크기)\n",
        "        h_t = x[:,-1,:] # (배치 크기, 은닉 상태의 크기)의 텐서로 크기가 변경됨. 즉, 마지막 time-step의 은닉 상태만 가져온다.\n",
        "        self.dropout(h_t)\n",
        "        logit = self.out(self.activation(h_t))  # (배치 크기, 은닉 상태의 크기) -> (배치 크기, 출력층의 크기)\n",
        "        return logit\n",
        "\n",
        "    def _init_state(self, batch_size=1):\n",
        "        weight = next(self.parameters()).data\n",
        "        return weight.new(self.n_layers, batch_size, self.hidden_dim).zero_()"
      ],
      "metadata": {
        "id": "vrpvll2lqIr4"
      },
      "execution_count": 210,
      "outputs": []
    },
    {
      "cell_type": "code",
      "source": [
        "embedding = nn.Embedding.from_pretrained(weights, freeze=False).to(device)\n",
        "\n",
        "#basic training configuration\n",
        "num_epochs = 10\n",
        "batch_size = 5\n",
        "lr = 1e-2\n",
        "\n",
        "# create dataloder\n",
        "train_loader2 = data.Iterator(train_set, batch_size=batch_size, shuffle=True)\n",
        "val_loader2 = data.Iterator(val_set, batch_size=batch_size, shuffle=False)\n",
        "\n",
        "model = GRU(embedding).to(device)\n",
        "optimizer = optim.SGD(model.parameters(), lr=lr, weight_decay=0.2)\n",
        "\n",
        "loss_function = nn.CrossEntropyLoss().to(device)\n",
        "\n",
        "loss1, acc1 = [], []\n",
        "loss2, acc2 = [], []\n",
        "for epoch in range(num_epochs):\n",
        "    train_loss, train_acc = train(model, optimizer, train_loader2, loss_function)\n",
        "    val_loss, val_acc = evaluate(model, val_loader2)\n",
        "    # print(f'\\tTrain Loss: {train_loss} | Train Acc: {train_acc}%')\n",
        "    # print(f'\\tval Loss: {val_loss} | val Acc: {val_acc}%')\n",
        "\n",
        "    loss1.append(train_loss)\n",
        "    acc1.append(train_acc)\n",
        "    loss2.append(val_loss)\n",
        "    acc2.append(val_acc)\n",
        "\n",
        "    if val_acc > best_acc:\n",
        "        best_acc = val_acc\n",
        "        torch.save(model, 'model_new3')\n",
        "\n",
        "plt.figure(figsize=(10,5))\n",
        "plt.subplot(1,2,1)\n",
        "plt.title('Model = CNN w/ pretrained')\n",
        "plt.plot(range(num_epochs), loss1, range(num_epochs), loss2)\n",
        "plt.xlabel('Number of epochs')\n",
        "plt.ylabel('Loss')\n",
        "plt.legend(['Training loss', 'Validation loss'])\n",
        "\n",
        "plt.subplot(1,2,2)\n",
        "plt.title('Model = CNN w/ pretrained')\n",
        "plt.plot(range(num_epochs), acc1, range(num_epochs), acc2)\n",
        "plt.xlabel('Number of epochs')\n",
        "plt.ylabel('Accuracy')\n",
        "plt.legend(['Training acc', 'Validation acc'])"
      ],
      "metadata": {
        "colab": {
          "base_uri": "https://localhost:8080/",
          "height": 367
        },
        "id": "TzibltOiMsR1",
        "outputId": "0b64db2f-3e94-43be-fee2-d8fccf47f0a2"
      },
      "execution_count": 231,
      "outputs": [
        {
          "output_type": "execute_result",
          "data": {
            "text/plain": [
              "<matplotlib.legend.Legend at 0x7f185b96e890>"
            ]
          },
          "metadata": {},
          "execution_count": 231
        },
        {
          "output_type": "display_data",
          "data": {
            "image/png": "[encoded data removed]",
            "text/plain": [
              "<Figure size 720x360 with 2 Axes>"
            ]
          },
          "metadata": {
            "needs_background": "light"
          }
        }
      ]
    },
    {
      "cell_type": "code",
      "source": [
        "test_pred_new, time_new = test_eval(model, test_loader)\n",
        "new_csv = pd.DataFrame([filename_index, test_pred_new], index=['id','sentiment']).transpose()\n",
        "new_csv.to_csv('predictions/test_new4.csv', sep=',', index=False)"
      ],
      "metadata": {
        "id": "qgiuxC_3qFQ-"
      },
      "execution_count": 201,
      "outputs": []
    },
    {
      "cell_type": "code",
      "source": [
        ""
      ],
      "metadata": {
        "id": "Ql7o4xZGiHD-"
      },
      "execution_count": null,
      "outputs": []
    }
  ]
}